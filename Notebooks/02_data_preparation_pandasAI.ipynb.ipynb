{
 "cells": [
  {
   "cell_type": "code",
   "execution_count": null,
   "id": "5e7f1b95-b89b-41f3-9785-0dff08e70526",
   "metadata": {},
   "outputs": [],
   "source": [
    "import pandas as pd\n",
    "from pandasai import SmartDataframe\n",
    "from pandasai.llm import OpenAI"
   ]
  },
  {
   "cell_type": "code",
   "execution_count": null,
   "id": "ed240106-f80a-403d-ad4a-c70499c60261",
   "metadata": {},
   "outputs": [],
   "source": [
    "import numpy as np\n",
    "import matplotlib.pyplot as plt\n",
    "from sklearn.tree import DecisionTreeRegressor, export_text\n",
    "from sklearn.model_selection import train_test_split\n",
    "from sklearn.metrics import mean_squared_error"
   ]
  },
  {
   "cell_type": "code",
   "execution_count": null,
   "id": "27fe9360-3787-4d7b-9e98-e9504a754708",
   "metadata": {},
   "outputs": [],
   "source": [
    "from sklearn.metrics import r2_score\n",
    "from sklearn.model_selection import GridSearchCV"
   ]
  },
  {
   "cell_type": "code",
   "execution_count": null,
   "id": "2942aa10-7d06-4a37-9e2d-9b019738c181",
   "metadata": {},
   "outputs": [],
   "source": [
    "!jupyter nbconvert --to webpdf openAI - Project_Final.ipynb"
   ]
  },
  {
   "cell_type": "markdown",
   "id": "124e45b9-1e18-4d8d-9fb7-486f8d4e2423",
   "metadata": {},
   "source": [
    "# 1 - Load and preview dataset"
   ]
  },
  {
   "cell_type": "code",
   "execution_count": null,
   "id": "0b204966-ad6a-4b6b-9ee2-c3e1259e4d98",
   "metadata": {},
   "outputs": [],
   "source": [
    "house_price = pd.read_csv('Real_estate _1.csv')\n",
    "house_price.head()"
   ]
  },
  {
   "cell_type": "code",
   "execution_count": null,
   "id": "f7e7861d-5755-4e94-8ec2-155890e55457",
   "metadata": {},
   "outputs": [],
   "source": [
    "llm = OpenAI(api_token=\"YOUR_API_KEY_HERE\")\n",
    "house_price = SmartDataframe(house_price, config ={\"llm\": llm})"
   ]
  },
  {
   "cell_type": "code",
   "execution_count": null,
   "id": "bce1cb13-7b2c-4272-8b40-08be47188cdd",
   "metadata": {},
   "outputs": [],
   "source": [
    "# Checking the shape of dataset.\n",
    "house_price.chat('how many rows and columns are in the dataset?')"
   ]
  },
  {
   "cell_type": "markdown",
   "id": "1abb069d-7309-4f1a-a512-4aecfe493bdc",
   "metadata": {},
   "source": [
    "# Data cleaning and Preparation"
   ]
  },
  {
   "cell_type": "code",
   "execution_count": null,
   "id": "845383e6-ce03-4005-af82-4f54757a85b9",
   "metadata": {},
   "outputs": [],
   "source": [
    "# Fixing inconsistent formatting\n",
    "house_price.chat('in column names replace whitespaces to \"_\" and change uppercase to lowercase')"
   ]
  },
  {
   "cell_type": "code",
   "execution_count": null,
   "id": "2f7859d7-f6ff-4a8d-b8f3-07c6007b5f40",
   "metadata": {},
   "outputs": [],
   "source": [
    "# Rename 'no' column to 'transaction_id'\n",
    "house_price.chat('Rename \"no\" to \"Transaction_ID')"
   ]
  },
  {
   "cell_type": "code",
   "execution_count": null,
   "id": "42406d0c-453b-4ffa-962c-df8f43a99116",
   "metadata": {},
   "outputs": [],
   "source": [
    "# Checking for missing values in each column\n",
    "house_price.chat('is there a missing data in the dataset?')"
   ]
  },
  {
   "cell_type": "code",
   "execution_count": null,
   "id": "6567d1f2-7f3f-41b3-9012-b56934da5232",
   "metadata": {},
   "outputs": [],
   "source": [
    "# Checking for duplicate rows\n",
    "house_price.chat('are the dublicates values in the dataset?')"
   ]
  },
  {
   "cell_type": "code",
   "execution_count": null,
   "id": "8b584660-88f0-4e03-b0eb-9febfcb7da21",
   "metadata": {},
   "outputs": [],
   "source": [
    "# Checking for data types\n",
    "house_price.chat('what are the data types of values?')"
   ]
  },
  {
   "cell_type": "markdown",
   "id": "5c273aaa-7671-42b0-9ed1-80f95dd728e5",
   "metadata": {},
   "source": [
    "# 2 - Data distribution and Outliers"
   ]
  },
  {
   "cell_type": "code",
   "execution_count": null,
   "id": "a9ae1426-86de-4e84-a801-6eef9b7427f8",
   "metadata": {},
   "outputs": [],
   "source": [
    "# Checking Data Distribution\n",
    "house_price.chat('Show data distribution of continius data. show it in tables')"
   ]
  },
  {
   "cell_type": "code",
   "execution_count": null,
   "id": "b9d48180-f639-430a-aa5c-f4af16438347",
   "metadata": {},
   "outputs": [],
   "source": [
    "# Graphical representation of outliers to confirm outlier detection for \"x3_distance_to_the_nearest_mrt_station\" and \"y_house_price_of_unit_area\" variables\n",
    "#And checking for potential outliers in other variables\n",
    "house_price.chat('display all outliers of dataset in boxplots')"
   ]
  },
  {
   "cell_type": "code",
   "execution_count": null,
   "id": "b61f5053-ecdd-4577-86d9-1272467d4624",
   "metadata": {},
   "outputs": [],
   "source": [
    "#Count the outliers in each of the columns\n",
    "house_price.chat('count outliers in each column')"
   ]
  },
  {
   "cell_type": "code",
   "execution_count": null,
   "id": "5c18a21c-d065-4fe3-98be-ba405595baef",
   "metadata": {},
   "outputs": [],
   "source": [
    "house_price.chat('count outliers in each column and show it in column bars')"
   ]
  },
  {
   "cell_type": "code",
   "execution_count": null,
   "id": "0a61825c-4569-414c-87b2-ce4cfaddf5f8",
   "metadata": {},
   "outputs": [],
   "source": [
    "house_price.chat('show 97th percentile of x3_distance_to_the_nearest_mrt_station column')"
   ]
  },
  {
   "cell_type": "code",
   "execution_count": null,
   "id": "73c9a20b-cef7-42eb-8189-3858a14fdd42",
   "metadata": {},
   "outputs": [],
   "source": [
    "# Replacing \"x3_distance_to_the_nearest_mrt_station\" outliers with 97th percentile.\n",
    "house_price.chat('replace outliers in \"x3_distance_to_the_nearest_mrt_station\" column with 97th percentile')"
   ]
  },
  {
   "cell_type": "code",
   "execution_count": null,
   "id": "cc5214ce-8019-42ff-a181-b09f38c059f6",
   "metadata": {},
   "outputs": [],
   "source": [
    "house_price.chat('replace outliers in \"x3_distance_to_the_nearest_mrt_station\" column with 4435.033050000001')"
   ]
  },
  {
   "cell_type": "code",
   "execution_count": null,
   "id": "b0769ad2-e4c4-4cad-b830-4017048edd95",
   "metadata": {},
   "outputs": [],
   "source": [
    "#Remove records with outliers in 'y_house_price_of_unit_area' column\n",
    "house_price.chat('what are the outliers of the y_house_price_of_unit_area column')"
   ]
  },
  {
   "cell_type": "code",
   "execution_count": null,
   "id": "b07791f2-ff42-4f42-a7f6-941955376a45",
   "metadata": {},
   "outputs": [],
   "source": [
    "# Removing 3 outliers from the \"y_house_price_of_unit_area\" column.\n",
    "# We can see that number of rows reduced to 411.\n",
    "house_price.chat('remove 3 outliers from the \"y_house_price_of_unit_area\" ')"
   ]
  },
  {
   "cell_type": "markdown",
   "id": "7a86a263-c10f-4e0b-b180-e46151d31320",
   "metadata": {},
   "source": [
    "# Data Analysis for Data Understanding"
   ]
  },
  {
   "cell_type": "code",
   "execution_count": null,
   "id": "14e4833d-9220-47cc-9599-d0dfd797e98b",
   "metadata": {},
   "outputs": [],
   "source": [
    "# Display descriptive statistics of the variables\n",
    "house_price.chat('Display descriptive statistics of the variables')"
   ]
  },
  {
   "cell_type": "code",
   "execution_count": null,
   "id": "a4b9f4f7-856d-4626-aea1-82243eba6807",
   "metadata": {},
   "outputs": [],
   "source": [
    "house_price.chat('In boxplot calculate count, mean, std, min, 25% quartile, 50% quartile, 75% quartile and max values of the y_house_price_of_unit_area')"
   ]
  },
  {
   "cell_type": "code",
   "execution_count": null,
   "id": "3a18829d-b752-4b36-a94d-3f0fb3b762dd",
   "metadata": {},
   "outputs": [],
   "source": [
    "# Generating and plotting the correlation matrix\n",
    "house_price.chat('Generate and plot the correlation matrix')"
   ]
  },
  {
   "cell_type": "code",
   "execution_count": null,
   "id": "7b259b2b-233f-4299-913f-86084d94fb16",
   "metadata": {},
   "outputs": [],
   "source": [
    "house_price.chat('is the a correlation amoung the variables?')"
   ]
  },
  {
   "cell_type": "code",
   "execution_count": null,
   "id": "8696d95d-2ba8-4797-b501-f39bb199ec47",
   "metadata": {},
   "outputs": [],
   "source": [
    "house_price.chat('show this correlation in a table')"
   ]
  },
  {
   "cell_type": "code",
   "execution_count": null,
   "id": "646bbcdf-4f53-4bb1-aba3-27e146c6dba2",
   "metadata": {},
   "outputs": [],
   "source": []
  },
  {
   "cell_type": "markdown",
   "id": "a55fcdc2-ae66-432e-bc8b-f1e20e8cc321",
   "metadata": {},
   "source": [
    "# 3 - Decision Tree Regression Model"
   ]
  },
  {
   "cell_type": "markdown",
   "id": "31c87ebc-919f-49ef-938b-451e1b2ee892",
   "metadata": {},
   "source": [
    "# Defining best predictors and Target"
   ]
  },
  {
   "cell_type": "code",
   "execution_count": null,
   "id": "d6098193-5731-4348-bd02-6ceaa5603ae9",
   "metadata": {},
   "outputs": [],
   "source": [
    "# Finding predictors amoung our variables.\n",
    "house_price.chat('display the best predictors for the house price of unit area')"
   ]
  },
  {
   "cell_type": "code",
   "execution_count": null,
   "id": "96613d1f-ce14-4223-8072-581b07ffe956",
   "metadata": {},
   "outputs": [],
   "source": [
    "# Defining the best predictors for the model.\n",
    "house_price.chat('which of them are the best predictors fot the house_price_of_unit_area')"
   ]
  },
  {
   "cell_type": "code",
   "execution_count": null,
   "id": "b6dfa3c6-90db-45fc-a51c-8ea32fbfbcfe",
   "metadata": {},
   "outputs": [],
   "source": [
    "# Puting x3_distance_to_the_nearest_mrt_station, x4_number_of_convenience_stores, x5_latitude, x6_longitude  under the name Best Predistors.\n",
    "house_price.chat('define them as a best predictors')"
   ]
  },
  {
   "cell_type": "code",
   "execution_count": null,
   "id": "825afad1-40e9-456b-8465-b3213b64d129",
   "metadata": {},
   "outputs": [],
   "source": [
    "house_price.chat('show valuse of \"y house price of unit area\" column')"
   ]
  },
  {
   "cell_type": "code",
   "execution_count": null,
   "id": "3d8d4882-cc54-4200-86ec-7eb859a3ec2a",
   "metadata": {},
   "outputs": [],
   "source": [
    "# In my previous attempts pandasai displayed me an column of house_price_of_unit_area with 414 rows, ignoring all steps of data cleaning."
   ]
  },
  {
   "cell_type": "code",
   "execution_count": null,
   "id": "c3065638-ed4b-4e28-8249-0c32571a9c83",
   "metadata": {},
   "outputs": [],
   "source": [
    "# Putting House price of unit area under the name Target\n",
    "#  !!!  Pandasai displays y_hous_price_of_unit_area as it was before removing outliers from this column.\n",
    "house_price.chat('define this column as a Target')"
   ]
  },
  {
   "cell_type": "markdown",
   "id": "9b810c57-4be8-4f88-80be-54ef3caff3f8",
   "metadata": {},
   "source": [
    "# Spliting dataset into training and validation dataset."
   ]
  },
  {
   "cell_type": "code",
   "execution_count": null,
   "id": "38a8166e-6af7-43ed-9ec3-6c219e25129b",
   "metadata": {},
   "outputs": [],
   "source": [
    "house_price.chat('crate new dataframe from target and best predictors')"
   ]
  },
  {
   "cell_type": "code",
   "execution_count": null,
   "id": "0d14c2b8-e7ca-482b-9737-b7fbf1e1a2fb",
   "metadata": {},
   "outputs": [],
   "source": [
    "house_price.chat('split target and best predictors into training and validation dataset where validation dataset size i 40%')"
   ]
  },
  {
   "cell_type": "code",
   "execution_count": null,
   "id": "39a12030-0368-4786-949b-faf250c90bd3",
   "metadata": {},
   "outputs": [],
   "source": []
  }
 ],
 "metadata": {
  "kernelspec": {
   "display_name": "Python 3 (ipykernel)",
   "language": "python",
   "name": "python3"
  },
  "language_info": {
   "codemirror_mode": {
    "name": "ipython",
    "version": 3
   },
   "file_extension": ".py",
   "mimetype": "text/x-python",
   "name": "python",
   "nbconvert_exporter": "python",
   "pygments_lexer": "ipython3",
   "version": "3.12.5"
  }
 },
 "nbformat": 4,
 "nbformat_minor": 5
}
