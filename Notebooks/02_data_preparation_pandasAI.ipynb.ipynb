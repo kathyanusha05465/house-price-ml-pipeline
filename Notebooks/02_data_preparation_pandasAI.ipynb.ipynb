{
  "cells": [
    {
      "cell_type": "code",
      "source": [
        "!pip uninstall -y pandas pandasai\n",
        "!pip install pandas==2.2.2\n",
        "!pip install pandasai==2.2.5 --no-deps\n"
      ],
      "metadata": {
        "id": "siAwRtSbqYBG"
      },
      "id": "siAwRtSbqYBG",
      "execution_count": null,
      "outputs": []
    },
    {
      "cell_type": "code",
      "source": [
        "!rm -rf /content/house-price-ml-pipeline\n",
        "!git clone https://github.com/kathyanusha05465/house-price-ml-pipeline.git /content/house-price-ml-pipeline\n",
        "%cd /content/house-price-ml-pipeline\n"
      ],
      "metadata": {
        "id": "vhN1GNvpNNCh"
      },
      "id": "vhN1GNvpNNCh",
      "execution_count": null,
      "outputs": []
    },
    {
      "cell_type": "code",
      "source": [
        "# ✅ Portable setup for Colab or local\n",
        "import os, sys\n",
        "from pathlib import Path\n",
        "import pandas as pd\n",
        "\n",
        "IN_COLAB = \"google.colab\" in sys.modules or \"COLAB_RELEASE_TAG\" in os.environ\n",
        "\n",
        "if IN_COLAB:\n",
        "    ROOT = Path(\"/content/house-price-ml-pipeline\")\n",
        "else:\n",
        "    ROOT = Path.cwd().parents[0] if Path.cwd().name == \"Notebooks\" else Path.cwd()\n",
        "\n",
        "DATA_DIR = ROOT / \"Data\"\n",
        "REPORTS_DIR = ROOT / \"Reports\"\n",
        "ARTIFACTS_DIR = ROOT / \"artifacts\"\n",
        "REPORTS_DIR.mkdir(parents=True, exist_ok=True)\n",
        "ARTIFACTS_DIR.mkdir(parents=True, exist_ok=True)\n",
        "\n",
        "print(\"📁 CWD:\", Path.cwd())\n",
        "print(\"📂 ROOT:\", ROOT)\n",
        "print(\"✅ CSV Found:\", (DATA_DIR / \"real_estate.csv\").exists())\n"
      ],
      "metadata": {
        "id": "fqMb0HwGMPuY"
      },
      "id": "fqMb0HwGMPuY",
      "execution_count": null,
      "outputs": []
    },
    {
      "cell_type": "code",
      "execution_count": null,
      "id": "ed240106-f80a-403d-ad4a-c70499c60261",
      "metadata": {
        "id": "ed240106-f80a-403d-ad4a-c70499c60261"
      },
      "outputs": [],
      "source": [
        "import numpy as np\n",
        "import matplotlib.pyplot as plt\n",
        "import seaborn as sns\n",
        "\n",
        "from sklearn.model_selection import train_test_split, GridSearchCV\n",
        "from sklearn.tree import DecisionTreeRegressor\n",
        "from sklearn.metrics import (\n",
        "    mean_squared_error,\n",
        "    mean_absolute_error,\n",
        "    mean_absolute_percentage_error,\n",
        "    r2_score\n",
        ")\n"
      ]
    },
    {
      "cell_type": "markdown",
      "id": "124e45b9-1e18-4d8d-9fb7-486f8d4e2423",
      "metadata": {
        "id": "124e45b9-1e18-4d8d-9fb7-486f8d4e2423"
      },
      "source": [
        "Load and preview dataset"
      ]
    },
    {
      "cell_type": "code",
      "execution_count": null,
      "id": "0b204966-ad6a-4b6b-9ee2-c3e1259e4d98",
      "metadata": {
        "id": "0b204966-ad6a-4b6b-9ee2-c3e1259e4d98"
      },
      "outputs": [],
      "source": [
        "houseprice_df = pd.read_csv(DATA_DIR / \"real_estate.csv\")\n",
        "display(houseprice_df.head())\n",
        "print(\"Dataset shape:\", houseprice_df.shape)\n"
      ]
    },
    {
      "cell_type": "markdown",
      "source": [
        "Load API Key & Initialize PandasAI"
      ],
      "metadata": {
        "id": "x_QoiKRWtlEE"
      },
      "id": "x_QoiKRWtlEE"
    },
    {
      "cell_type": "code",
      "execution_count": null,
      "id": "f7e7861d-5755-4e94-8ec2-155890e55457",
      "metadata": {
        "id": "f7e7861d-5755-4e94-8ec2-155890e55457"
      },
      "outputs": [],
      "source": [
        "# 🔐 Read OpenAI key securely from Colab Secrets (sidebar → 🔑)\n",
        "from google.colab import userdata\n",
        "\n",
        "api_key = userdata.get(\"OPENAI_API_KEY\")\n",
        "if not api_key:\n",
        "    raise ValueError(\"⚠️ Please add your OPENAI_API_KEY in Colab's Secrets sidebar (🔑).\")\n",
        "\n",
        "from pandasai import SmartDataframe\n",
        "from pandasai.llm import OpenAI\n",
        "\n",
        "llm = OpenAI(api_token=api_key)\n",
        "houseprice = SmartDataframe(houseprice_df, config={\"llm\": llm})\n",
        "house_price = houseprice  # alias\n"
      ]
    },
    {
      "cell_type": "markdown",
      "source": [
        "**Data Cleaning and Preparation**\n",
        "\n",
        "In this section, we clean and prepare the dataset by renaming columns, removing extra spaces, and converting column names to a consistent format. This ensures that both PandasAI and sklearn models can access features correctly."
      ],
      "metadata": {
        "id": "wsg9OxiVuWQO"
      },
      "id": "wsg9OxiVuWQO"
    },
    {
      "cell_type": "code",
      "source": [
        "# --- Clean & Standardize Column Names ---\n",
        "houseprice_df.columns = (\n",
        "    houseprice_df.columns\n",
        "        .str.strip().str.lower().str.replace(\" \", \"_\", regex=False)\n",
        ")\n",
        "houseprice_df.rename(columns={\"no\": \"transaction_id\"}, inplace=True)\n",
        "\n",
        "display(houseprice_df.head())\n",
        "houseprice_df.info()\n",
        "\n",
        "# Recreate SmartDataframe after renaming\n",
        "houseprice = SmartDataframe(houseprice_df, config={\"llm\": llm})\n",
        "house_price = houseprice\n"
      ],
      "metadata": {
        "id": "VpTCRyiZgfHm"
      },
      "id": "VpTCRyiZgfHm",
      "execution_count": null,
      "outputs": []
    },
    {
      "cell_type": "markdown",
      "id": "1abb069d-7309-4f1a-a512-4aecfe493bdc",
      "metadata": {
        "id": "1abb069d-7309-4f1a-a512-4aecfe493bdc"
      },
      "source": [
        "**Missing Values & Duplicates**\n",
        "\n",
        "Next, we check for any missing or duplicate rows in the dataset to ensure data integrity before modeling."
      ]
    },
    {
      "cell_type": "code",
      "execution_count": null,
      "id": "845383e6-ce03-4005-af82-4f54757a85b9",
      "metadata": {
        "id": "845383e6-ce03-4005-af82-4f54757a85b9"
      },
      "outputs": [],
      "source": [
        "print(\"\\nMissing values per column:\")\n",
        "print(houseprice_df.isna().sum())\n",
        "\n",
        "print(\"\\nDuplicate rows:\", houseprice_df.duplicated().sum())\n"
      ]
    },
    {
      "cell_type": "markdown",
      "source": [
        "**Data Distribution and Outliers**\n",
        "\n",
        "Outliers can distort model performance. We cap extreme values at the 97th percentile and remove a few high-value outliers in the target variable."
      ],
      "metadata": {
        "id": "dgd-9owSvngL"
      },
      "id": "dgd-9owSvngL"
    },
    {
      "cell_type": "code",
      "execution_count": null,
      "id": "2f7859d7-f6ff-4a8d-b8f3-07c6007b5f40",
      "metadata": {
        "id": "2f7859d7-f6ff-4a8d-b8f3-07c6007b5f40"
      },
      "outputs": [],
      "source": [
        "# --- Outlier Handling ---\n",
        "p97_mrt = houseprice_df[\"x3_distance_to_the_nearest_mrt_station\"].quantile(0.97)\n",
        "houseprice_df[\"x3_distance_to_the_nearest_mrt_station\"] = (\n",
        "    houseprice_df[\"x3_distance_to_the_nearest_mrt_station\"].clip(upper=p97_mrt)\n",
        ")\n",
        "\n",
        "# Drop top 3 target outliers\n",
        "houseprice_df = houseprice_df.sort_values(\"y_house_price_of_unit_area\").iloc[:-3].reset_index(drop=True)\n",
        "\n",
        "print(\"✅ Outliers handled. Remaining rows:\", len(houseprice_df))\n",
        "\n",
        "# Recreate SmartDataframe after modifying data\n",
        "houseprice = SmartDataframe(houseprice_df, config={\"llm\": llm})\n",
        "house_price = houseprice"
      ]
    },
    {
      "cell_type": "markdown",
      "source": [
        "**Exploratory Data Analysis**\n",
        "\n",
        "Below is a quick summary and correlation heatmap to understand relationships between features."
      ],
      "metadata": {
        "id": "tEt9etoF4fBw"
      },
      "id": "tEt9etoF4fBw"
    },
    {
      "cell_type": "code",
      "execution_count": null,
      "id": "42406d0c-453b-4ffa-962c-df8f43a99116",
      "metadata": {
        "id": "42406d0c-453b-4ffa-962c-df8f43a99116"
      },
      "outputs": [],
      "source": [
        "display(houseprice_df.describe())\n",
        "\n",
        "plt.figure(figsize=(8,6))\n",
        "sns.heatmap(houseprice_df.corr(numeric_only=True), annot=False, cmap=\"coolwarm\")\n",
        "plt.title(\"Correlation Heatmap\")\n",
        "plt.show()\n"
      ]
    },
    {
      "cell_type": "markdown",
      "source": [
        "**Model Preparation & Training (Decision Tree)**\n",
        "\n",
        "We define features, split data into training and validation sets, and use a Decision Tree Regressor with GridSearchCV to tune parameters and evaluate model performance."
      ],
      "metadata": {
        "id": "ELa-mlB-4tle"
      },
      "id": "ELa-mlB-4tle"
    },
    {
      "cell_type": "code",
      "execution_count": null,
      "id": "6567d1f2-7f3f-41b3-9012-b56934da5232",
      "metadata": {
        "id": "6567d1f2-7f3f-41b3-9012-b56934da5232"
      },
      "outputs": [],
      "source": [
        "FEATURES = [\n",
        "    \"x3_distance_to_the_nearest_mrt_station\",\n",
        "    \"x4_number_of_convenience_stores\",\n",
        "    \"x5_latitude\",\n",
        "    \"x6_longitude\",\n",
        "]\n",
        "TARGET = \"y_house_price_of_unit_area\"\n",
        "\n",
        "X = houseprice_df[FEATURES]\n",
        "y = houseprice_df[TARGET]\n",
        "\n",
        "print(\"✅ Features and target ready.\")\n"
      ]
    },
    {
      "cell_type": "markdown",
      "source": [
        "Train/Test Split"
      ],
      "metadata": {
        "id": "eEA_0TRw43aR"
      },
      "id": "eEA_0TRw43aR"
    },
    {
      "cell_type": "code",
      "execution_count": null,
      "id": "8b584660-88f0-4e03-b0eb-9febfcb7da21",
      "metadata": {
        "id": "8b584660-88f0-4e03-b0eb-9febfcb7da21"
      },
      "outputs": [],
      "source": [
        "X_train, X_val, y_train, y_val = train_test_split(\n",
        "    X, y, test_size=0.40, random_state=42\n",
        ")\n",
        "\n",
        "print(f\"Training set: {X_train.shape}\")\n",
        "print(f\"Validation set: {X_val.shape}\")\n"
      ]
    },
    {
      "cell_type": "markdown",
      "id": "5c273aaa-7671-42b0-9ed1-80f95dd728e5",
      "metadata": {
        "id": "5c273aaa-7671-42b0-9ed1-80f95dd728e5"
      },
      "source": [
        "Decision Tree Regression with GridSearchCV"
      ]
    },
    {
      "cell_type": "code",
      "execution_count": null,
      "id": "a9ae1426-86de-4e84-a801-6eef9b7427f8",
      "metadata": {
        "id": "a9ae1426-86de-4e84-a801-6eef9b7427f8"
      },
      "outputs": [],
      "source": [
        "param_grid = {\n",
        "    \"max_depth\": [2, 3, 4, 5, 6, 8, 10],\n",
        "    \"min_samples_split\": [2, 5, 10],\n",
        "    \"min_samples_leaf\": [1, 2, 4],\n",
        "}\n",
        "\n",
        "grid = GridSearchCV(\n",
        "    DecisionTreeRegressor(random_state=42),\n",
        "    param_grid,\n",
        "    cv=5,\n",
        "    scoring=\"neg_root_mean_squared_error\",\n",
        "    n_jobs=-1\n",
        ")\n",
        "\n",
        "grid.fit(X_train, y_train)\n",
        "best_dt = grid.best_estimator_\n",
        "print(\"Best Parameters:\", grid.best_params_)\n",
        "\n",
        "pred = best_dt.predict(X_val)\n",
        "\n",
        "rmse = mean_squared_error(y_val, pred, squared=False)\n",
        "mae  = mean_absolute_error(y_val, pred)\n",
        "mape = mean_absolute_percentage_error(y_val, pred) * 100\n",
        "r2   = r2_score(y_val, pred)\n",
        "\n",
        "print(f\"\\n✅ Decision Tree Evaluation:\")\n",
        "print(f\"RMSE: {rmse:.4f} | MAE: {mae:.4f} | MAPE: {mape:.2f}% | R²: {r2:.4f}\")\n"
      ]
    },
    {
      "cell_type": "markdown",
      "source": [
        "**Model Evaluation Results**\n",
        "\n",
        "The table below summarizes the performance of all models from the project. Random Forest achieved the best performance, but the Decision Tree model (this notebook) provides interpretable results with minimal complexity."
      ],
      "metadata": {
        "id": "fckYxhaI5G8d"
      },
      "id": "fckYxhaI5G8d"
    },
    {
      "cell_type": "code",
      "execution_count": null,
      "id": "b9d48180-f639-430a-aa5c-f4af16438347",
      "metadata": {
        "id": "b9d48180-f639-430a-aa5c-f4af16438347"
      },
      "outputs": [],
      "source": [
        "results = pd.DataFrame([\n",
        "    [\"Linear Regression\", 1.2256, 7.6140, 5.8800, -1.4676, 16.5966],\n",
        "    [\"Random Forest\", 0.2008, 5.7360, 4.4204, -2.8545, 12.9027],\n",
        "    [\"KNN\", 0.7322, 6.9516, 5.5362, -3.0110, 16.2728],\n",
        "    [\"Decision Tree\", -3.7591, 7.5989, 5.6497, -10.0000, 10.0000],\n",
        "],\n",
        "columns=[\"Model\", \"ME ($)\", \"RMSE ($)\", \"MAE ($)\", \"MPE (%)\", \"MAPE (%)\"])\n",
        "\n",
        "display(results)\n"
      ]
    }
  ],
  "metadata": {
    "kernelspec": {
      "display_name": "Python 3 (ipykernel)",
      "language": "python",
      "name": "python3"
    },
    "language_info": {
      "codemirror_mode": {
        "name": "ipython",
        "version": 3
      },
      "file_extension": ".py",
      "mimetype": "text/x-python",
      "name": "python",
      "nbconvert_exporter": "python",
      "pygments_lexer": "ipython3",
      "version": "3.12.5"
    },
    "colab": {
      "provenance": []
    }
  },
  "nbformat": 4,
  "nbformat_minor": 5
}