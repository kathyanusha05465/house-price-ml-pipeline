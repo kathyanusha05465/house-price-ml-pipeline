{
 "cells": [
  {
   "cell_type": "code",
   "execution_count": null,
   "id": "1bfba9da-978f-43ce-8b81-9a640ebdbb04",
   "metadata": {},
   "outputs": [],
   "source": [
    "import pandas as pd\n",
    "from pandasai import SmartDataframe\n",
    "from pandasai.llm import OpenAI"
   ]
  },
  {
   "cell_type": "code",
   "execution_count": null,
   "id": "97fc8738-e539-4d19-aae1-9bfb82e78d11",
   "metadata": {},
   "outputs": [],
   "source": [
    "import numpy as np\n",
    "import matplotlib.pyplot as plt\n",
    "from sklearn.tree import DecisionTreeRegressor, export_text\n",
    "from sklearn.model_selection import train_test_split\n",
    "from sklearn.metrics import mean_squared_error"
   ]
  },
  {
   "cell_type": "code",
   "execution_count": null,
   "id": "c579f5a0-eae4-440f-8102-775c49e13026",
   "metadata": {},
   "outputs": [],
   "source": [
    "from sklearn.metrics import r2_score\n",
    "from sklearn.model_selection import GridSearchCV"
   ]
  },
  {
   "cell_type": "code",
   "execution_count": null,
   "id": "012d3406-e478-47b5-aa02-a081a118f0ce",
   "metadata": {},
   "outputs": [],
   "source": [
    "!jupyter nbconvert --to webpdf Project_final_decision_tree.ipynb"
   ]
  },
  {
   "cell_type": "code",
   "execution_count": null,
   "id": "a9e99865-8c38-4fe5-a628-5f08be9e5bfc",
   "metadata": {},
   "outputs": [],
   "source": [
    "house_price = pd.read_csv('Real_estate _1.csv')\n",
    "house_price.head()"
   ]
  },
  {
   "cell_type": "code",
   "execution_count": null,
   "id": "09ca8403-fde9-4e2b-8cd1-f16c45fd8084",
   "metadata": {},
   "outputs": [],
   "source": [
    "house_price.columns = house_price.columns.str.strip().str.lower().str.replace(\" \", \"_\")"
   ]
  },
  {
   "cell_type": "code",
   "execution_count": null,
   "id": "dc1c6626-1fc9-4d10-af8e-8466e98b823d",
   "metadata": {},
   "outputs": [],
   "source": [
    "house_price.rename(columns={'no': 'transaction_id'}, inplace=True)"
   ]
  },
  {
   "cell_type": "code",
   "execution_count": null,
   "id": "8e58c7ef-14bc-40c3-a3e9-c3ff9cfcc099",
   "metadata": {},
   "outputs": [],
   "source": [
    "def cap_outliers(series, upper_percentile=0.97):\n",
    "    upper_bound = series.quantile(upper_percentile)\n",
    "    return series.clip(upper=upper_bound)"
   ]
  },
  {
   "cell_type": "code",
   "execution_count": null,
   "id": "78c665ef-e371-4ce0-8826-f45b4e9ae721",
   "metadata": {},
   "outputs": [],
   "source": [
    "house_price['x3_distance_to_the_nearest_mrt_station'] = cap_outliers(house_price['x3_distance_to_the_nearest_mrt_station'])\n",
    "print(f\"{'x3_distance_to_the_nearest_mrt_station'}: capped at 97th percentile = {house_price['x3_distance_to_the_nearest_mrt_station'].max()}\")"
   ]
  },
  {
   "cell_type": "code",
   "execution_count": null,
   "id": "d5eefb36-d0ea-44cb-b309-5bdd00d61af3",
   "metadata": {},
   "outputs": [],
   "source": [
    "outlier_values = [78.3, 117.5, 78.0]\n",
    "house_price = house_price[~house_price['y_house_price_of_unit_area'].isin(outlier_values)]"
   ]
  },
  {
   "cell_type": "code",
   "execution_count": null,
   "id": "69349118-dcbd-488e-a4cc-a1cdc655a212",
   "metadata": {},
   "outputs": [],
   "source": [
    "house_price = house_price.drop(columns=['transaction_id', 'x1_transaction_date'])\n",
    "house_price.head()"
   ]
  },
  {
   "cell_type": "code",
   "execution_count": null,
   "id": "46729c41-3982-44de-bca5-35ead3a08c88",
   "metadata": {},
   "outputs": [],
   "source": [
    "llm = OpenAI(api_token=\"YOUR_API_KEY_HERE\")\n",
    "house_price = SmartDataframe(house_price, config ={\"llm\": llm})"
   ]
  },
  {
   "cell_type": "code",
   "execution_count": null,
   "id": "b3faa675-5146-4851-a286-6ba23c8c5bd0",
   "metadata": {},
   "outputs": [],
   "source": [
    "house_price.chat('use wisestep to find the best predictors for y_house_price_of_unit_area')"
   ]
  },
  {
   "cell_type": "code",
   "execution_count": null,
   "id": "dd8ff432-4f62-4542-a310-1908bb896616",
   "metadata": {},
   "outputs": [],
   "source": [
    "house_price.chat('define x2_house_age, x3_distance_to_the_nearest_mrt_station, x4_number_of_convenience_stores, x5_latitude\t,x6_longitude  as a best predictors')"
   ]
  },
  {
   "cell_type": "code",
   "execution_count": null,
   "id": "4c5117b5-b0dd-4ea5-a140-dac63c48e196",
   "metadata": {},
   "outputs": [],
   "source": [
    "house_price.chat('define y_house_price_of_unit_area column as an outcome for the predictive model')"
   ]
  },
  {
   "cell_type": "code",
   "execution_count": null,
   "id": "f96fc13d-8a01-4980-8478-82ad3350ac7a",
   "metadata": {},
   "outputs": [],
   "source": [
    "house_price.chat('visualize correlation between outcome and best predictors')"
   ]
  },
  {
   "cell_type": "markdown",
   "id": "d00224fd-cac4-4069-a2a7-183c1df0f041",
   "metadata": {},
   "source": [
    "# Splittig data"
   ]
  },
  {
   "cell_type": "code",
   "execution_count": null,
   "id": "746bf19b-f128-498d-a0f0-14ce6e3e34db",
   "metadata": {},
   "outputs": [],
   "source": [
    "house_price.chat('divide the original data frame house_price into two data frames with independent variable X and dependent variable y')"
   ]
  },
  {
   "cell_type": "code",
   "execution_count": null,
   "id": "0e8697e1-8e05-484c-a258-640e5799b641",
   "metadata": {},
   "outputs": [],
   "source": [
    "house_price.chat('split y_house_price_of_unit_area and best predictors into training dataset= 60% and validation dataset = 40%')"
   ]
  },
  {
   "cell_type": "markdown",
   "id": "af0ebb6b-d614-4315-84e0-8558ba0d5317",
   "metadata": {},
   "source": [
    "# Best Hyperparameters"
   ]
  },
  {
   "cell_type": "code",
   "execution_count": null,
   "id": "73ea2e35-75db-4ae9-957a-b40900009fe9",
   "metadata": {},
   "outputs": [],
   "source": [
    "# We will use Hyperparameters parameters that can be fine-tuned to improve the accuracy of our machine learning model."
   ]
  },
  {
   "cell_type": "code",
   "execution_count": null,
   "id": "30555c72-5707-4b47-9c17-658fdbe8583f",
   "metadata": {},
   "outputs": [],
   "source": [
    "# Checking for Best Hyperparameters\n",
    "house_price.chat('look at the best hyperparameter combination of max_depth, min_samples_split, min_samples_leaf, max_leaf_nodes, max_features that GridSearchCV has chosen for us')"
   ]
  },
  {
   "cell_type": "code",
   "execution_count": null,
   "id": "4e1c9b53-c98b-490d-8c29-d7c91100be67",
   "metadata": {},
   "outputs": [],
   "source": [
    "# max_depth: It denotes the tree’s maximum depth. It supports any int value or “None”. If “None”, nodes are expanded until all leaves are pure or contain fewer than min samples split samples.\n",
    "# min_samples_split: It refers to the minimum number of samples needed to split an internal node. It supports any int or float value and the default is 2.\n",
    "# min_samples_leaf: It refers to the minimum no. of samples required at the leaf node. By default, it is 1. It can be any int or float value and the default is 1.\n",
    "# max_features: It indicates the number of features to be considered in order to find the best split. It can have the values ‘auto,”sqrt,’ ‘log2’, ‘None,’ int, or float. It is set to 1.0 by default."
   ]
  },
  {
   "cell_type": "code",
   "execution_count": null,
   "id": "1be3f2fa-342d-42a4-8297-f3d900278877",
   "metadata": {},
   "outputs": [],
   "source": [
    "house_price.chat('create an object of DecisionTreeRegressor with max_depth =30, min_samples_split=2, max_features = log2, max_leaf_nodes= None, min_samples_leaf = 1,   random_state=1')"
   ]
  },
  {
   "cell_type": "markdown",
   "id": "edea486d-b463-4268-9bc5-27fa2fd169d5",
   "metadata": {},
   "source": [
    "# Training accuracy"
   ]
  },
  {
   "cell_type": "code",
   "execution_count": null,
   "id": "6c327921-0893-4551-a73d-58a9244233ea",
   "metadata": {},
   "outputs": [],
   "source": [
    "house_price.chat('alculate the training accuracy using the R2 score')"
   ]
  },
  {
   "cell_type": "code",
   "execution_count": null,
   "id": "1bd6219e-02ca-474f-ad72-ba856b3a4688",
   "metadata": {},
   "outputs": [],
   "source": [
    "#  training accuracy is very hight = 99,62%\n",
    "# Both spreads are almost completely overlapping one another, indicating that training accuracy is actually quite high and also a possibility of some overfitting."
   ]
  },
  {
   "cell_type": "code",
   "execution_count": null,
   "id": "29e2ad6c-a857-4740-9a0a-09d0f830118c",
   "metadata": {},
   "outputs": [],
   "source": [
    " house_price.chat('use a scatter plot to see the training accuracy')"
   ]
  },
  {
   "cell_type": "code",
   "execution_count": null,
   "id": "97782931-42f3-4ffb-855e-e7cbf86b260d",
   "metadata": {},
   "outputs": [],
   "source": [
    "house_price.chat('calculate regression statistic')\n",
    "# this time pandasAI calculated testing accuracy againg and gave us different result = 98.78%"
   ]
  },
  {
   "cell_type": "code",
   "execution_count": null,
   "id": "8fd0fea5-162c-4337-80e3-9701f906ee1e",
   "metadata": {},
   "outputs": [],
   "source": [
    "house_price.chat('calculate ME, MAE, MPE, MAPE for thaining dataset ')"
   ]
  },
  {
   "cell_type": "markdown",
   "id": "84fd3a0d-ef50-472b-915b-a39b58f00d5f",
   "metadata": {},
   "source": [
    "# Testing accuracy"
   ]
  },
  {
   "cell_type": "code",
   "execution_count": null,
   "id": "24f847b8-df85-4ed2-9314-c6ccafd28e75",
   "metadata": {},
   "outputs": [],
   "source": [
    "house_price.chat('show the testing accuracy')"
   ]
  },
  {
   "cell_type": "code",
   "execution_count": null,
   "id": "799a8d8b-cc53-4b4a-a0f6-1e6c78729538",
   "metadata": {},
   "outputs": [],
   "source": [
    "# Testing accuracy is \n",
    "# There is overfitting in the model. Our training accuracy is between 99-98% while our testing accuracy is 67.71%."
   ]
  },
  {
   "cell_type": "code",
   "execution_count": null,
   "id": "e38a16e5-e7f6-4ef0-b3ce-a8e9913d1c99",
   "metadata": {},
   "outputs": [],
   "source": [
    "house_price.chat('calculate ME, MPE, MAPE for testing dataset ')"
   ]
  },
  {
   "cell_type": "code",
   "execution_count": null,
   "id": "624b240e-65cf-4057-adc0-5c8aa7f4566c",
   "metadata": {},
   "outputs": [],
   "source": [
    " house_price.chat('visualize the testing accuracy of decision tree regressor')"
   ]
  },
  {
   "cell_type": "markdown",
   "id": "b5481504-20cd-47ae-927c-6d90bff426c5",
   "metadata": {},
   "source": [
    "# Visualizing Regression Decision Tree with Graphviz"
   ]
  },
  {
   "cell_type": "code",
   "execution_count": null,
   "id": "3049d6e3-a346-467d-a6aa-8eb212566fdd",
   "metadata": {},
   "outputs": [],
   "source": [
    "# downloading Grahpviz package\n",
    "from sklearn import tree\n",
    "import graphviz"
   ]
  },
  {
   "cell_type": "code",
   "execution_count": null,
   "id": "6054bbfa-21c7-423b-b7e1-c1a54fdcd6e7",
   "metadata": {},
   "outputs": [],
   "source": [
    "house_price.chat('visualize the decision tree itself by using the tree module of sklearn and Graphviz package')"
   ]
  },
  {
   "cell_type": "code",
   "execution_count": null,
   "id": "253ae599-2883-4445-a711-67a2e568d9f1",
   "metadata": {},
   "outputs": [],
   "source": []
  }
 ],
 "metadata": {
  "kernelspec": {
   "display_name": "Python 3 (ipykernel)",
   "language": "python",
   "name": "python3"
  },
  "language_info": {
   "codemirror_mode": {
    "name": "ipython",
    "version": 3
   },
   "file_extension": ".py",
   "mimetype": "text/x-python",
   "name": "python",
   "nbconvert_exporter": "python",
   "pygments_lexer": "ipython3",
   "version": "3.12.5"
  }
 },
 "nbformat": 4,
 "nbformat_minor": 5
}
